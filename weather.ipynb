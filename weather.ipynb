{
 "cells": [
  {
   "cell_type": "markdown",
   "metadata": {},
   "source": [
    "# Weather Analysis"
   ]
  },
  {
   "cell_type": "markdown",
   "metadata": {},
   "source": [
    "## Task review and explanation"
   ]
  },
  {
   "cell_type": "markdown",
   "metadata": {},
   "source": [
    "### Task 1: Create Directory Structure\n",
    "\n",
    "Firstly we create the data folder in the root of the repository using mkdir\n",
    "\n",
    "```bash\n",
    "mkdir data\n",
    "```\n",
    "Secondly, we use cd command to navigate between folders. Once in the data folder we can use mkdir again to create timestamps and weather folder.\n",
    "Other option is to use mkdir data/weather. This option is available only when data was already created."
   ]
  },
  {
   "cell_type": "markdown",
   "metadata": {},
   "source": [
    "### Task 2 - Timestamps \n",
    "\n",
    "Firstly, we can navigate to the correct folder (timestamps) using cd. we can use ls command to check the content of the folder.\n",
    "If it is not there, we can use data >> now.txt to create the timestamp. Repeat this step 10 times\n",
    "We can verify the content using the command more.\n",
    "\n",
    "```bash\n",
    "ls\n",
    "more\n",
    "data >> now.txt\n",
    "```"
   ]
  },
  {
   "cell_type": "markdown",
   "metadata": {},
   "source": [
    "### Task 3 - Formatting Timestamps\n",
    "\n",
    "Command man can be used to open the manual for date to get more understanding of the formatting options.\n",
    "The task is like task number 2. To do this task, we need to use command line data + \"%Y%m%d_%H%M%S\" >> formatted.txt\n",
    "%Y = Year (e.g., 2024)\n",
    "%m = Month (01..12)\n",
    "%d = Day of the month (01..31)\n",
    "%H = Hour (00..23)\n",
    "%M = Minute (00..59)\n",
    "%S = Second (00..59)\n",
    "\n",
    "```bash\n",
    "data + \"%Y%m%d_%H%M%S\" >> formatted.txt\n",
    "```"
   ]
  },
  {
   "cell_type": "markdown",
   "metadata": {},
   "source": [
    "### Task 4 - Create Timestamped Files \n",
    "\n",
    "Task 4 built on the knowledge from previous task.  We need to use command touch and backsticks around date and the format selected to ensure the code run smoothly.\n",
    "\n",
    "```bash\n",
    "touch `date +\"%Y%m%d_%H%M%S\"`.txt\n",
    "```"
   ]
  },
  {
   "cell_type": "markdown",
   "metadata": {},
   "source": [
    "### Task 5 Download Today's Weather Data\n",
    "### Task 6 Timestamp the Data\n",
    "\n",
    "In these tasks we will need to use the command wget. If it is not installed it can be done using  sudo apt  install wget.\n",
    "Firstly, we need to move to folder weather using command cd. Then we need to download data from URL https://prodapi.metweb.ie/observations/athenry/today. To do that we need to use command wget -0 weather.jason(URL). \n",
    "If we add the formatting we can solve also the task 6. (wget - 0 `date +\"%Y%m%d_%H%M%S.json\"`).\n",
    "\n",
    "```bash\n",
    "wget - 0 `date +\"%Y%m%d_%H%M%S.json\"` (URL)\n",
    "```\n"
   ]
  },
  {
   "cell_type": "markdown",
   "metadata": {},
   "source": [
    "### Task 7 Write the Script\n",
    "\n",
    "The first step is to use cd to move to the root folder. Then we need to create a file using the command touch and call it weather.sh\n",
    "In that file we need to activate bash writing  #!/bin/bash. Posteriorly we need to write the code developed in task 6\n",
    "wget -O data/weather/`date +\"%Y%m%d_%H%M%S.json\"`https://prodapi.metweb.ie/observations/athenry/today\n",
    "\n",
    "```bash\n",
    "\n",
    "#!/bin/bash\n",
    "\n",
    "wget -O data/weather/`date +\"%Y%m%d_%H%M%S.json\"` https://prodapi.metweb.ie/observations/athenry/today\n",
    "```"
   ]
  },
  {
   "cell_type": "markdown",
   "metadata": {},
   "source": [
    "## Analysing the data"
   ]
  },
  {
   "cell_type": "code",
   "execution_count": 2,
   "metadata": {},
   "outputs": [],
   "source": [
    "import pandas as pd\n",
    "\n",
    "file_location = 'data/weather/20241202_174703.json'\n",
    "df = pd.read_json(file_location)\n"
   ]
  },
  {
   "cell_type": "code",
   "execution_count": 8,
   "metadata": {},
   "outputs": [
    {
     "data": {
      "text/html": [
       "<div>\n",
       "<style scoped>\n",
       "    .dataframe tbody tr th:only-of-type {\n",
       "        vertical-align: middle;\n",
       "    }\n",
       "\n",
       "    .dataframe tbody tr th {\n",
       "        vertical-align: top;\n",
       "    }\n",
       "\n",
       "    .dataframe thead th {\n",
       "        text-align: right;\n",
       "    }\n",
       "</style>\n",
       "<table border=\"1\" class=\"dataframe\">\n",
       "  <thead>\n",
       "    <tr style=\"text-align: right;\">\n",
       "      <th></th>\n",
       "      <th>temperature</th>\n",
       "      <th>windSpeed</th>\n",
       "      <th>windDirection</th>\n",
       "      <th>humidity</th>\n",
       "      <th>rainfall</th>\n",
       "      <th>pressure</th>\n",
       "      <th>date</th>\n",
       "    </tr>\n",
       "  </thead>\n",
       "  <tbody>\n",
       "    <tr>\n",
       "      <th>count</th>\n",
       "      <td>18.000000</td>\n",
       "      <td>18.000000</td>\n",
       "      <td>18.000000</td>\n",
       "      <td>18.000000</td>\n",
       "      <td>18.000000</td>\n",
       "      <td>18.000000</td>\n",
       "      <td>18</td>\n",
       "    </tr>\n",
       "    <tr>\n",
       "      <th>mean</th>\n",
       "      <td>5.611111</td>\n",
       "      <td>12.888889</td>\n",
       "      <td>287.500000</td>\n",
       "      <td>84.611111</td>\n",
       "      <td>0.001111</td>\n",
       "      <td>1019.111111</td>\n",
       "      <td>2024-02-12 00:00:00</td>\n",
       "    </tr>\n",
       "    <tr>\n",
       "      <th>min</th>\n",
       "      <td>2.000000</td>\n",
       "      <td>2.000000</td>\n",
       "      <td>0.000000</td>\n",
       "      <td>75.000000</td>\n",
       "      <td>0.000000</td>\n",
       "      <td>1013.000000</td>\n",
       "      <td>2024-02-12 00:00:00</td>\n",
       "    </tr>\n",
       "    <tr>\n",
       "      <th>25%</th>\n",
       "      <td>5.000000</td>\n",
       "      <td>9.500000</td>\n",
       "      <td>281.250000</td>\n",
       "      <td>84.000000</td>\n",
       "      <td>0.000000</td>\n",
       "      <td>1017.000000</td>\n",
       "      <td>2024-02-12 00:00:00</td>\n",
       "    </tr>\n",
       "    <tr>\n",
       "      <th>50%</th>\n",
       "      <td>6.000000</td>\n",
       "      <td>13.000000</td>\n",
       "      <td>315.000000</td>\n",
       "      <td>86.000000</td>\n",
       "      <td>0.000000</td>\n",
       "      <td>1020.500000</td>\n",
       "      <td>2024-02-12 00:00:00</td>\n",
       "    </tr>\n",
       "    <tr>\n",
       "      <th>75%</th>\n",
       "      <td>7.000000</td>\n",
       "      <td>15.000000</td>\n",
       "      <td>315.000000</td>\n",
       "      <td>87.000000</td>\n",
       "      <td>0.000000</td>\n",
       "      <td>1022.000000</td>\n",
       "      <td>2024-02-12 00:00:00</td>\n",
       "    </tr>\n",
       "    <tr>\n",
       "      <th>max</th>\n",
       "      <td>7.000000</td>\n",
       "      <td>26.000000</td>\n",
       "      <td>315.000000</td>\n",
       "      <td>93.000000</td>\n",
       "      <td>0.010000</td>\n",
       "      <td>1022.000000</td>\n",
       "      <td>2024-02-12 00:00:00</td>\n",
       "    </tr>\n",
       "    <tr>\n",
       "      <th>std</th>\n",
       "      <td>1.460817</td>\n",
       "      <td>5.508164</td>\n",
       "      <td>74.246212</td>\n",
       "      <td>4.924595</td>\n",
       "      <td>0.003234</td>\n",
       "      <td>3.141541</td>\n",
       "      <td>NaN</td>\n",
       "    </tr>\n",
       "  </tbody>\n",
       "</table>\n",
       "</div>"
      ],
      "text/plain": [
       "       temperature  windSpeed  windDirection   humidity   rainfall  \\\n",
       "count    18.000000  18.000000      18.000000  18.000000  18.000000   \n",
       "mean      5.611111  12.888889     287.500000  84.611111   0.001111   \n",
       "min       2.000000   2.000000       0.000000  75.000000   0.000000   \n",
       "25%       5.000000   9.500000     281.250000  84.000000   0.000000   \n",
       "50%       6.000000  13.000000     315.000000  86.000000   0.000000   \n",
       "75%       7.000000  15.000000     315.000000  87.000000   0.000000   \n",
       "max       7.000000  26.000000     315.000000  93.000000   0.010000   \n",
       "std       1.460817   5.508164      74.246212   4.924595   0.003234   \n",
       "\n",
       "          pressure                 date  \n",
       "count    18.000000                   18  \n",
       "mean   1019.111111  2024-02-12 00:00:00  \n",
       "min    1013.000000  2024-02-12 00:00:00  \n",
       "25%    1017.000000  2024-02-12 00:00:00  \n",
       "50%    1020.500000  2024-02-12 00:00:00  \n",
       "75%    1022.000000  2024-02-12 00:00:00  \n",
       "max    1022.000000  2024-02-12 00:00:00  \n",
       "std       3.141541                  NaN  "
      ]
     },
     "execution_count": 8,
     "metadata": {},
     "output_type": "execute_result"
    }
   ],
   "source": [
    "df.describe()"
   ]
  }
 ],
 "metadata": {
  "kernelspec": {
   "display_name": "Python 3",
   "language": "python",
   "name": "python3"
  },
  "language_info": {
   "codemirror_mode": {
    "name": "ipython",
    "version": 3
   },
   "file_extension": ".py",
   "mimetype": "text/x-python",
   "name": "python",
   "nbconvert_exporter": "python",
   "pygments_lexer": "ipython3",
   "version": "3.12.1"
  }
 },
 "nbformat": 4,
 "nbformat_minor": 2
}
