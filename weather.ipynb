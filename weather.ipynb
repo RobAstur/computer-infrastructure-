{
 "cells": [
  {
   "cell_type": "markdown",
   "metadata": {},
   "source": [
    "# task report"
   ]
  },
  {
   "cell_type": "markdown",
   "metadata": {},
   "source": [
    "**Task 1** - The first task consists in create the folder structure. To create a folder we use the command line mkdir. First we need to create data folder (mkdir data). Then we can create timestamp and weather folders. I used Cd command to open data folder and then I use mkdir again. Once data folder is created we can use also mkdir data/weather for example to create the folder.\n"
   ]
  },
  {
   "cell_type": "markdown",
   "metadata": {},
   "source": [
    "**Task 2** In this task we need to use different commands (data, >>) it is also helpful to use ls ( check what is in the folder) and more (to check the file created). To get the timestamp in file called now.txt , we need to redirect the data to now.txt with below command data >> now.txt. We just need to do it 10 times. IF we use only > we overwrite the file. "
   ]
  },
  {
   "cell_type": "markdown",
   "metadata": {},
   "source": [
    "**Task 3** Similar to task 2. The main different is to get the timestamp formatted. \n",
    "We can use command \"man\" and \"data\" to get some help about formatting. In order to do this task we need to use command line data + \"%Y%m%d_%H%M%S\" >> formatted.txt"
   ]
  },
  {
   "cell_type": "markdown",
   "metadata": {},
   "source": [
    "**Task 4** In this task we need to use a combination of commands touch, to create a file, date and backticks. The backticks run the date command and use the result  as the filename for the touch command, creating a file with that name.\n",
    "Command line should be: touch `date +\"%Y%m%d_%H%M%S\"`.txt"
   ]
  },
  {
   "cell_type": "markdown",
   "metadata": {},
   "source": [
    "**Task 5 and 6** We move to weather folder using cd command. Before using wget we may need to install it using sudo apt  install wget.\n",
    "The next step is to get the info from th eprovided URL with the requested name. That can be used using wget in combination with -O. Command line would be wget -O weather.json URL.\n",
    "Using wget - 0 `date +\"%Y%m%d_%H%M%S.json\"` (URL). Will give us the file with fromatted date name."
   ]
  },
  {
   "cell_type": "markdown",
   "metadata": {},
   "source": [
    "**Task 7** First thing we need to create the file using command touch.\n",
    "Once we have the file we need to use #! /bin/bash to tell the system that the file is executable. \n",
    "If we try to execute the file now (./weather.sh), it won't work ( permission denied). To change the mode to executable we need to use chmod u+x ./weather.sh. Once it is done we will be able to execute the script."
   ]
  },
  {
   "cell_type": "code",
   "execution_count": 4,
   "metadata": {},
   "outputs": [],
   "source": [
    "import pandas as pd\n",
    "\n",
    "file_location = 'data/weather/20241202_174703.json'\n",
    "df = pd.read_json(file_location)\n"
   ]
  },
  {
   "cell_type": "code",
   "execution_count": 5,
   "metadata": {},
   "outputs": [
    {
     "name": "stdout",
     "output_type": "stream",
     "text": [
      "      name  temperature symbol weatherDescription                 text  \\\n",
      "0  Athenry            7    02n               Fair               \"Fair\"   \n",
      "1  Athenry            7    04n             Cloudy             \"Cloudy\"   \n",
      "2  Athenry            7    02n               Fair               \"Fair\"   \n",
      "3  Athenry            6    46n        Light rain   \"Moderate Drizzle \"   \n",
      "4  Athenry            5    46n        Light rain     \"Recent Drizzle \"   \n",
      "\n",
      "   windSpeed windGust cardinalWindDirection  windDirection  humidity  \\\n",
      "0         17        -                    NW            315        88   \n",
      "1         15        -                     W            270        85   \n",
      "2         17        -                    NW            315        86   \n",
      "3         26        -                    NW            315        86   \n",
      "4         15        -                    NW            315        89   \n",
      "\n",
      "   rainfall  pressure dayName       date reportTime  \n",
      "0      0.00      1013  Monday 2024-02-12      00:00  \n",
      "1      0.00      1014  Monday 2024-02-12      01:00  \n",
      "2      0.00      1015  Monday 2024-02-12      02:00  \n",
      "3      0.01      1016  Monday 2024-02-12      03:00  \n",
      "4      0.01      1017  Monday 2024-02-12      04:00  \n"
     ]
    }
   ],
   "source": [
    "print(df.head())\n"
   ]
  }
 ],
 "metadata": {
  "kernelspec": {
   "display_name": "Python 3",
   "language": "python",
   "name": "python3"
  },
  "language_info": {
   "codemirror_mode": {
    "name": "ipython",
    "version": 3
   },
   "file_extension": ".py",
   "mimetype": "text/x-python",
   "name": "python",
   "nbconvert_exporter": "python",
   "pygments_lexer": "ipython3",
   "version": "3.12.1"
  }
 },
 "nbformat": 4,
 "nbformat_minor": 2
}
