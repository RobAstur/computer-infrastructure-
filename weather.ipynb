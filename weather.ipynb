{
 "cells": [
  {
   "cell_type": "markdown",
   "metadata": {},
   "source": [
    "# Weather Analysis"
   ]
  },
  {
   "cell_type": "markdown",
   "metadata": {},
   "source": [
    "## Task review and explanation"
   ]
  },
  {
   "cell_type": "markdown",
   "metadata": {},
   "source": [
    "### Task 1: Create Directory Structure\n",
    "\n",
    "Firstly we create the data folder in the root of the repository using mkdir\n",
    "\n",
    "```bash\n",
    "mkdir data\n",
    "```\n",
    "Secondly, we use cd command to navigate between folders. Once in the data folder we can use mkdir again to create timestamps and weather folder.\n",
    "Other option is to use mkdir data/weather. This option is available only when data was already created."
   ]
  },
  {
   "cell_type": "markdown",
   "metadata": {},
   "source": [
    "### Task 2 - Timestamps \n",
    "\n",
    "Firstly, we can navigate to the correct folder (timestamps) using cd. we can use ls command to check the content of the folder.\n",
    "If it is not there, we can use data >> now.txt to create the timestamp. Repeat this step 10 times\n",
    "We can verify the content using the command more.\n",
    "\n",
    "```bash\n",
    "ls\n",
    "more\n",
    "data >> now.txt\n",
    "```"
   ]
  },
  {
   "cell_type": "markdown",
   "metadata": {},
   "source": [
    "### Task 3 - Formatting Timestamps\n",
    "\n",
    "Command man can be used to open the manual for date to get more understanding of the formatting options.\n",
    "The task is like task number 2. To do this task, we need to use command line data + \"%Y%m%d_%H%M%S\" >> formatted.txt\n",
    "%Y = Year (e.g., 2024)\n",
    "%m = Month (01..12)\n",
    "%d = Day of the month (01..31)\n",
    "%H = Hour (00..23)\n",
    "%M = Minute (00..59)\n",
    "%S = Second (00..59)\n",
    "\n",
    "```bash\n",
    "data + \"%Y%m%d_%H%M%S\" >> formatted.txt\n",
    "```"
   ]
  },
  {
   "cell_type": "markdown",
   "metadata": {},
   "source": [
    "### Task 4 - Create Timestamped Files \n",
    "\n",
    "Task 4 built on the knowledge from previous task.  We need to use command touch and backsticks around date and the format selected to ensure the code run smoothly.\n",
    "\n",
    "```bash\n",
    "touch `date +\"%Y%m%d_%H%M%S\"`.txt\n",
    "```"
   ]
  },
  {
   "cell_type": "markdown",
   "metadata": {},
   "source": [
    "### Task 5 Download Today's Weather Data\n",
    "### Task 6 Timestamp the Data\n",
    "\n",
    "In these tasks we will need to use the command wget. If it is not installed it can be done using  sudo apt  install wget.\n",
    "Firstly, we need to move to folder weather using command cd. Then we need to download data from URL https://prodapi.metweb.ie/observations/athenry/today. To do that we need to use command wget -0 weather.jason(URL). \n",
    "If we add the formatting we can solve also the task 6. (wget - 0 `date +\"%Y%m%d_%H%M%S.json\"`).\n",
    "\n",
    "```bash\n",
    "wget - 0 `date +\"%Y%m%d_%H%M%S.json\"` (URL)\n",
    "```\n"
   ]
  },
  {
   "cell_type": "markdown",
   "metadata": {},
   "source": [
    "### Task 7 Write the Script\n",
    "\n",
    "The first step is to use cd to move to the root folder. Then we need to create a file using the command touch and call it weather.sh\n",
    "In that file we need to activate bash writing  #!/bin/bash. Posteriorly we need to write the code developed in task 6\n",
    "wget -O data/weather/`date +\"%Y%m%d_%H%M%S.json\"`https://prodapi.metweb.ie/observations/athenry/today\n",
    "\n",
    "```bash\n",
    "\n",
    "#!/bin/bash\n",
    "\n",
    "wget -O data/weather/`date +\"%Y%m%d_%H%M%S.json\"` https://prodapi.metweb.ie/observations/athenry/today\n",
    "```"
   ]
  },
  {
   "cell_type": "markdown",
   "metadata": {},
   "source": [
    "## Analyse the data"
   ]
  },
  {
   "cell_type": "code",
   "execution_count": 4,
   "metadata": {},
   "outputs": [],
   "source": [
    "import pandas as pd\n",
    "\n",
    "file_location = 'data/weather/20241202_174703.json'\n",
    "df = pd.read_json(file_location)\n"
   ]
  },
  {
   "cell_type": "code",
   "execution_count": 5,
   "metadata": {},
   "outputs": [
    {
     "name": "stdout",
     "output_type": "stream",
     "text": [
      "      name  temperature symbol weatherDescription                 text  \\\n",
      "0  Athenry            7    02n               Fair               \"Fair\"   \n",
      "1  Athenry            7    04n             Cloudy             \"Cloudy\"   \n",
      "2  Athenry            7    02n               Fair               \"Fair\"   \n",
      "3  Athenry            6    46n        Light rain   \"Moderate Drizzle \"   \n",
      "4  Athenry            5    46n        Light rain     \"Recent Drizzle \"   \n",
      "\n",
      "   windSpeed windGust cardinalWindDirection  windDirection  humidity  \\\n",
      "0         17        -                    NW            315        88   \n",
      "1         15        -                     W            270        85   \n",
      "2         17        -                    NW            315        86   \n",
      "3         26        -                    NW            315        86   \n",
      "4         15        -                    NW            315        89   \n",
      "\n",
      "   rainfall  pressure dayName       date reportTime  \n",
      "0      0.00      1013  Monday 2024-02-12      00:00  \n",
      "1      0.00      1014  Monday 2024-02-12      01:00  \n",
      "2      0.00      1015  Monday 2024-02-12      02:00  \n",
      "3      0.01      1016  Monday 2024-02-12      03:00  \n",
      "4      0.01      1017  Monday 2024-02-12      04:00  \n"
     ]
    }
   ],
   "source": [
    "print(df.head())\n"
   ]
  }
 ],
 "metadata": {
  "kernelspec": {
   "display_name": "Python 3",
   "language": "python",
   "name": "python3"
  },
  "language_info": {
   "codemirror_mode": {
    "name": "ipython",
    "version": 3
   },
   "file_extension": ".py",
   "mimetype": "text/x-python",
   "name": "python",
   "nbconvert_exporter": "python",
   "pygments_lexer": "ipython3",
   "version": "3.12.1"
  }
 },
 "nbformat": 4,
 "nbformat_minor": 2
}
