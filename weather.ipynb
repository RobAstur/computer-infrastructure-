{
 "cells": [
  {
   "cell_type": "markdown",
   "metadata": {},
   "source": [
    "# task report"
   ]
  },
  {
   "cell_type": "markdown",
   "metadata": {},
   "source": [
    "**Task 1** - The first task consists in create the folder structure. To create a folder we use the command line mkdir. First we need to create data folder (mkdir data). Then we can create timestamp and weather. I used Cd command to open data folder and then I use mkdir again. Once data folder is created we can use also mkdir data/weather for example to create the folder.\n"
   ]
  },
  {
   "cell_type": "markdown",
   "metadata": {},
   "source": [
    "**Task 2** In this task we need to use different commands (data, >>) it is also helpful to use ls ( check what is in the folder) and more (to check the file created). To get the timestamp in file called now.txt , we need to redirect the data to now.txt with below command data >> now.txt. We just need to do it 10 times. IF we use only > we overwrite the file. "
   ]
  },
  {
   "cell_type": "markdown",
   "metadata": {},
   "source": [
    "**Task 3** Similar to task 2. The main different is to get the timestamp formatted. \n",
    "We can use command \"man\" and \"data\" to get some help about formatting. In order to do this task we need to use command line data + \"%Y%m%d_%H%M%S\" >> formatted.txt"
   ]
  },
  {
   "cell_type": "markdown",
   "metadata": {},
   "source": [
    "**Task 4** In this task we need to use a combination of commands touch, to create a file, date and backticks. The backticks run the date command and use the result  as the filename for the touch command, creating a file with that name.\n",
    "Command line should be: touch `date +\"%Y%m%d_%H%M%S\"`.txt"
   ]
  },
  {
   "cell_type": "markdown",
   "metadata": {},
   "source": [
    "**Task 5** we move to weather folder using cd command. "
   ]
  },
  {
   "cell_type": "markdown",
   "metadata": {},
   "source": []
  }
 ],
 "metadata": {
  "language_info": {
   "name": "python"
  }
 },
 "nbformat": 4,
 "nbformat_minor": 2
}
